{
 "cells": [
  {
   "cell_type": "markdown",
   "metadata": {},
   "source": [
    "## Listas\n",
    "\n",
    "Una lista es una secuencia de elementos que puede almacenar datos heterogeneos tales como: float, strings, tuplas, listas y diccionarios. Una lista se escribe como la secuencia de datos a mantener, separados por una coma y delimitada por los paréntesis cuadrados. A diferencia de las cadenas de carácter y las tuplas, las listas son mutables, esto es, se pueden modificar después de definidas.\n",
    "\n",
    "A diferencia de las cadenas de carácter y las tuplas, las listas son mutables, esto es, se pueden modificar después de definidas.\n",
    "\n",
    "Una lista puede entenderse como una colección indexada de objetos. A cada elemento le corresponde una posición. Una lista puede almacenar objetos de diferente tipo en la misma estructura. Es posible también añadir, remover, o cambiar objetos. Esto quiere decir que las listas son mutables."
   ]
  },
  {
   "cell_type": "code",
   "execution_count": 8,
   "metadata": {},
   "outputs": [
    {
     "name": "stdout",
     "output_type": "stream",
     "text": [
      "[]\n"
     ]
    }
   ],
   "source": [
    "#Así se crea una lista vacía\n",
    "lis = []\n",
    "print(lis)"
   ]
  },
  {
   "cell_type": "code",
   "execution_count": 9,
   "metadata": {},
   "outputs": [
    {
     "name": "stdout",
     "output_type": "stream",
     "text": [
      "['Este es un elemento']\n"
     ]
    }
   ],
   "source": [
    "#Una lista con un elemento\n",
    "list2 = [\"Este es un elemento\"]\n",
    "print(list2)"
   ]
  },
  {
   "cell_type": "markdown",
   "metadata": {},
   "source": [
    "Para crear una lista, se almacenan los valores separados por comas:"
   ]
  },
  {
   "cell_type": "code",
   "execution_count": 10,
   "metadata": {},
   "outputs": [
    {
     "name": "stdout",
     "output_type": "stream",
     "text": [
      "[1, 2, 3, 4.6, 'hola', 'a']\n"
     ]
    }
   ],
   "source": [
    "lista3 = [1, 2, 3, 4.6, 'hola', 'a'] #una lista de 6 elementos\n",
    "print(lista3)"
   ]
  },
  {
   "cell_type": "code",
   "execution_count": 11,
   "metadata": {},
   "outputs": [
    {
     "data": {
      "text/plain": [
       "list"
      ]
     },
     "execution_count": 11,
     "metadata": {},
     "output_type": "execute_result"
    }
   ],
   "source": [
    "type(lista3)"
   ]
  },
  {
   "cell_type": "markdown",
   "metadata": {},
   "source": [
    "## Listas anidadas (Listas de listas)\n",
    "\n",
    "Es posible crear listas que tengan listas como elementos (anidadas):"
   ]
  },
  {
   "cell_type": "code",
   "execution_count": 16,
   "metadata": {},
   "outputs": [
    {
     "name": "stdout",
     "output_type": "stream",
     "text": [
      "[[0, 1, 2, 3], ['A', 'B', 'C']]\n",
      "[0, 1, 2, 3]\n",
      "A\n"
     ]
    }
   ],
   "source": [
    "lista1 = [0, 1, 2, 3]\n",
    "lista2 = ['A', 'B', 'C']\n",
    "lista3 = [lista1, lista2]\n",
    "print(lista3)\n",
    "print(lista3[0])\n",
    "print(lista3[1][0])"
   ]
  },
  {
   "cell_type": "markdown",
   "metadata": {},
   "source": [
    "## Operador concatenar\n",
    "\n",
    "Concatena dos listas produciendo una nueva."
   ]
  },
  {
   "cell_type": "code",
   "execution_count": 19,
   "metadata": {},
   "outputs": [
    {
     "name": "stdout",
     "output_type": "stream",
     "text": [
      "['A', 'B', 'C', 'E', 1, 2, 3, 4, 5]\n"
     ]
    }
   ],
   "source": [
    "list1 = ['A', 'B', 'C', 'E']\n",
    "list2 = [1,2,3,4,5]\n",
    "list3 = list1 + list2\n",
    "print(list3)"
   ]
  },
  {
   "cell_type": "markdown",
   "metadata": {},
   "source": [
    "## Operador extender\n",
    "\n",
    "El método `extend` agrega una lista al final de otra lista. "
   ]
  },
  {
   "cell_type": "code",
   "execution_count": 24,
   "metadata": {},
   "outputs": [
    {
     "name": "stdout",
     "output_type": "stream",
     "text": [
      "['Antonio', 'María', 'Mabel', 'Barry', 'John', 'Guttag']\n"
     ]
    }
   ],
   "source": [
    "nombres = ['Antonio', 'María', 'Mabel']\n",
    "otros_nombres = ['Barry', 'John', 'Guttag']\n",
    "nombres.extend(otros_nombres)\n",
    "print(nombres)"
   ]
  },
  {
   "cell_type": "markdown",
   "metadata": {},
   "source": [
    "## Operador repetir\n",
    "\n",
    "Crea una tupla con múltiples copias de una lista, tantas como se defina:"
   ]
  },
  {
   "cell_type": "code",
   "execution_count": 26,
   "metadata": {},
   "outputs": [
    {
     "name": "stdout",
     "output_type": "stream",
     "text": [
      "[1, 2, 3, 4, 5, 1, 2, 3, 4, 5, 1, 2, 3, 4, 5]\n",
      "['Abc', 'Bcd', 'Abc', 'Bcd']\n"
     ]
    }
   ],
   "source": [
    "list2 = [1,2,3,4,5]\n",
    "list3 = list2*3\n",
    "print(list3)\n",
    "list4 = ['Abc', 'Bcd']\n",
    "list5 = list4*2\n",
    "print(list5)"
   ]
  },
  {
   "cell_type": "markdown",
   "metadata": {},
   "source": [
    "## Operador Comparar\n",
    "\n",
    "Es posible comparar dos tuplas con ==, >=, <, <=, != Se comparan de izquierda a derecha:"
   ]
  },
  {
   "cell_type": "code",
   "execution_count": 27,
   "metadata": {},
   "outputs": [
    {
     "name": "stdout",
     "output_type": "stream",
     "text": [
      "True\n",
      "False\n",
      "True\n"
     ]
    }
   ],
   "source": [
    "print( ['Rojas', 123] < ['Rosas', 123] )\n",
    "print( ['Rosas', 123] == ['rosas', 123] )\n",
    "print( ['Rosas', 123] > ['Rosas', 23] )"
   ]
  },
  {
   "cell_type": "code",
   "execution_count": 28,
   "metadata": {},
   "outputs": [
    {
     "name": "stdout",
     "output_type": "stream",
     "text": [
      "True\n",
      "False\n"
     ]
    }
   ],
   "source": [
    "a = ['Rojas', 123]\n",
    "b = [\"Rojas\", 123]\n",
    "c = [\"Rosas\", 123]\n",
    "\n",
    "print( a == b )\n",
    "print( a == c )\n"
   ]
  },
  {
   "cell_type": "markdown",
   "metadata": {},
   "source": [
    "Se puede usar el operador `is` para determinar si dos tuplas son la misma (referencian al mismo objeto). Para el programa"
   ]
  },
  {
   "cell_type": "code",
   "execution_count": 30,
   "metadata": {},
   "outputs": [
    {
     "name": "stdout",
     "output_type": "stream",
     "text": [
      "True\n",
      "False\n",
      "True\n",
      "True\n"
     ]
    }
   ],
   "source": [
    "a = ['Rojas', 123]\n",
    "b = [\"Rojas\", 123]\n",
    "c = a\n",
    "print( a == b )\n",
    "print( a is b )\n",
    "print( a == c )\n",
    "print( a is c )"
   ]
  },
  {
   "cell_type": "markdown",
   "metadata": {},
   "source": [
    "## Operador subindice [] (subscript)\n",
    "\n",
    "Para acceder a un valor particular de una tupla se especifica su posición con corchetes []:"
   ]
  },
  {
   "cell_type": "code",
   "execution_count": 34,
   "metadata": {},
   "outputs": [
    {
     "name": "stdout",
     "output_type": "stream",
     "text": [
      "Ironman\n",
      "Hulk\n",
      "Hulk\n",
      "Spiderman\n"
     ]
    }
   ],
   "source": [
    "avengers = [\"Ironman\", \"Spiderman\", \"Ant-man\", \"Hulk\"]\n",
    "print(avengers[0]) \n",
    "print(avengers[3])\n",
    "print(avengers[-1])    \n",
    "print(avengers[-3]) "
   ]
  },
  {
   "cell_type": "markdown",
   "metadata": {},
   "source": [
    "## Consultando una lista\n",
    "\n",
    "Es posible determinar si un elemento se encuentra en una lista."
   ]
  },
  {
   "cell_type": "code",
   "execution_count": 35,
   "metadata": {},
   "outputs": [
    {
     "name": "stdout",
     "output_type": "stream",
     "text": [
      "yes\n"
     ]
    }
   ],
   "source": [
    "text = ['cien', 'años', 'de', 'soledad']\n",
    "if 'años' in text:\n",
    "  print('yes')"
   ]
  },
  {
   "cell_type": "markdown",
   "metadata": {},
   "source": [
    "Es posible determinar si un elemento no se encuentra en una lista."
   ]
  },
  {
   "cell_type": "code",
   "execution_count": 37,
   "metadata": {},
   "outputs": [
    {
     "name": "stdout",
     "output_type": "stream",
     "text": [
      "No esta en la lista\n"
     ]
    }
   ],
   "source": [
    "text = ['cien', 'años', 'de', 'soledad']\n",
    "if 'sien' not in text:\n",
    "    print('No esta en la lista')\n",
    "else:   \n",
    "    print('Esta en la lista')"
   ]
  },
  {
   "cell_type": "markdown",
   "metadata": {},
   "source": [
    "## Iterando una lista \n",
    "\n",
    "Es posible iterar una lista usando el ciclo `for`:"
   ]
  },
  {
   "cell_type": "code",
   "execution_count": 39,
   "metadata": {},
   "outputs": [
    {
     "name": "stdout",
     "output_type": "stream",
     "text": [
      "hola, amigos, mios, "
     ]
    }
   ],
   "source": [
    "s = [\"hola\", \"amigos\", \"mios\"]\n",
    "for palabra in s:  #para cada palabra de la lista\n",
    "    print(palabra + \",\", end=' ')"
   ]
  },
  {
   "cell_type": "markdown",
   "metadata": {},
   "source": [
    "## Programando listas\n",
    "\n",
    "Ya hemos definido listas antes. Para esto, hemos definido valores que se encuentran dentro de corchetes. Los valores se encuentran separados por coma. "
   ]
  },
  {
   "cell_type": "markdown",
   "metadata": {},
   "source": [
    "Es posible definir listas de forma literal (se crea la lista y se le asigna un contenido): "
   ]
  },
  {
   "cell_type": "code",
   "execution_count": 1,
   "metadata": {},
   "outputs": [
    {
     "name": "stdout",
     "output_type": "stream",
     "text": [
      "['lunes', 'martes', 'miércoles', 'jueves', 'viernes', 'sábado']\n",
      "[32.0, 212.0, 0.0, 81.6, 100.0]\n"
     ]
    }
   ],
   "source": [
    "dias = ['lunes', 'martes', 'miércoles', 'jueves', 'viernes', 'sábado']\n",
    "print(dias)\n",
    "temps = [ 32.0, 212.0, 0.0, 81.6, 100.0]\n",
    "print(temps)\n",
    "\n"
   ]
  },
  {
   "cell_type": "markdown",
   "metadata": {},
   "source": [
    "Para saber si un elemento está en una lista se puede usar el operador ```in```"
   ]
  },
  {
   "cell_type": "code",
   "execution_count": 3,
   "metadata": {},
   "outputs": [
    {
     "name": "stdout",
     "output_type": "stream",
     "text": [
      "Si\n"
     ]
    }
   ],
   "source": [
    "dias = ['lunes', 'martes', 'miércoles', 'jueves', 'viernes', 'sábado']\n",
    "if 'lunes' in dias:\n",
    "    print('Si')"
   ]
  },
  {
   "cell_type": "markdown",
   "metadata": {},
   "source": [
    "Para saber si un elemento no se encuentra en una lista se puede usar ```not in```:\n",
    "    "
   ]
  },
  {
   "cell_type": "code",
   "execution_count": 4,
   "metadata": {},
   "outputs": [
    {
     "name": "stdout",
     "output_type": "stream",
     "text": [
      "Si\n"
     ]
    }
   ],
   "source": [
    "dias = ['lunes', 'martes', 'miércoles', 'jueves', 'viernes', 'sábado']\n",
    "if('juernes' not in dias):\n",
    "    print('Si')"
   ]
  },
  {
   "cell_type": "markdown",
   "metadata": {},
   "source": [
    "Una lista puede almacenar distintos tipos de objeto:"
   ]
  },
  {
   "cell_type": "code",
   "execution_count": 6,
   "metadata": {},
   "outputs": [
    {
     "name": "stdout",
     "output_type": "stream",
     "text": [
      "dato Toyota tipo: <class 'str'>\n",
      "dato RAV4 tipo: <class 'str'>\n",
      "dato 2.2 tipo: <class 'float'>\n",
      "dato 60807 tipo: <class 'int'>\n"
     ]
    }
   ],
   "source": [
    "car_details = ['Toyota', 'RAV4', 2.2, 60807]\n",
    "\n",
    "for detail in car_details:  #para cada elemento detail en la lista car_details haga:\n",
    "    print(\"dato \" + str(detail) + \" tipo: \" + str(type(detail)))\n"
   ]
  },
  {
   "cell_type": "code",
   "execution_count": 7,
   "metadata": {},
   "outputs": [
    {
     "name": "stdout",
     "output_type": "stream",
     "text": [
      "Toyota\n",
      "RAV4\n",
      "2.2\n",
      "60807\n"
     ]
    }
   ],
   "source": [
    "for i in range(len(car_details)): #iterar una lista con subscript\n",
    "    print(car_details[i])"
   ]
  },
  {
   "cell_type": "markdown",
   "metadata": {},
   "source": [
    "Es posible tener una lista de listas:\n"
   ]
  },
  {
   "cell_type": "code",
   "execution_count": 10,
   "metadata": {},
   "outputs": [
    {
     "name": "stdout",
     "output_type": "stream",
     "text": [
      "[[1, 2, 3], ['a', 'b', 'c']]\n",
      "[1, 2, 3]\n",
      "['a', 'b', 'c']\n",
      "2\n"
     ]
    }
   ],
   "source": [
    "mi_lista = [[1,2,3], ['a', 'b', 'c']]\n",
    "\n",
    "print(mi_lista)\n",
    "\n",
    "print(mi_lista[0])\n",
    "print(mi_lista[1])\n",
    "print(mi_lista[0][1])\n",
    "\n"
   ]
  },
  {
   "cell_type": "markdown",
   "metadata": {},
   "source": [
    "## Ejercicio:\n",
    "\n",
    "Dada una frase averiguar cuantas vocales tiene y mostrarlas. Para esto, se debe usar la siguiente lista ```vowels = ['a', 'e', 'i', 'o', 'u']```\n",
    "\n",
    "<table>\n",
    "    <tr>\n",
    "        <td>Input</td><td>Output</td>\n",
    "    </tr>\n",
    "    <tr>\n",
    "        <td>externocleidomastoideo</td><td>11</td>\n",
    "    </tr>"
   ]
  },
  {
   "cell_type": "code",
   "execution_count": 7,
   "metadata": {},
   "outputs": [
    {
     "name": "stdout",
     "output_type": "stream",
     "text": [
      "lojavengers\n",
      "o\n",
      "a\n",
      "e\n",
      "e\n",
      "se encontraron: 4 vocales.\n"
     ]
    }
   ],
   "source": []
  },
  {
   "cell_type": "code",
   "execution_count": null,
   "metadata": {},
   "outputs": [],
   "source": []
  },
  {
   "cell_type": "markdown",
   "metadata": {},
   "source": [
    "Para crear la lista y añadir elementos de forma dinámica se puede hacer lo siguiente:"
   ]
  },
  {
   "cell_type": "code",
   "execution_count": 11,
   "metadata": {},
   "outputs": [
    {
     "data": {
      "text/plain": [
       "0"
      ]
     },
     "execution_count": 11,
     "metadata": {},
     "output_type": "execute_result"
    }
   ],
   "source": [
    "found=[] #se crea la lista vacía\n",
    "len(found) #este método calcula la longitud de la lista\n"
   ]
  },
  {
   "cell_type": "code",
   "execution_count": 12,
   "metadata": {},
   "outputs": [
    {
     "data": {
      "text/plain": [
       "5"
      ]
     },
     "execution_count": 12,
     "metadata": {},
     "output_type": "execute_result"
    }
   ],
   "source": [
    "found.append('a')\n",
    "found.append('e')\n",
    "found.append('i')\n",
    "found.append('o')\n",
    "found.append('u')\n",
    "\n",
    "len(found)\n"
   ]
  },
  {
   "cell_type": "code",
   "execution_count": 27,
   "metadata": {},
   "outputs": [
    {
     "name": "stdout",
     "output_type": "stream",
     "text": [
      "['a', 'e', 'i', 'o', 'u']\n"
     ]
    }
   ],
   "source": [
    "print(found)"
   ]
  },
  {
   "cell_type": "markdown",
   "metadata": {},
   "source": [
    "Para validar si un elemento no está en la lista se puede utilizar ```not in```\n",
    "\n"
   ]
  },
  {
   "cell_type": "code",
   "execution_count": 16,
   "metadata": {},
   "outputs": [
    {
     "name": "stdout",
     "output_type": "stream",
     "text": [
      "True\n",
      "False\n"
     ]
    }
   ],
   "source": [
    "esta_en_lista = 'x' not in found\n",
    "print(esta_en_lista)\n",
    "\n",
    "esta_en_lista = 'a' not in found\n",
    "print(esta_en_lista)"
   ]
  },
  {
   "cell_type": "markdown",
   "metadata": {},
   "source": [
    "Tambien es posible remover la ocurrencia de un valor específico en la lista. Remove toma como argumento el objeto que se va a eliminar, remueve el elemento de la lista y reduce en uno su tamaño. Si el elemento no se encuentra en la lista se lanza un error."
   ]
  },
  {
   "cell_type": "code",
   "execution_count": 28,
   "metadata": {},
   "outputs": [
    {
     "name": "stdout",
     "output_type": "stream",
     "text": [
      "['a', 'e', 'o', 'u']\n",
      "4\n"
     ]
    }
   ],
   "source": [
    "found.remove('i')\n",
    "print(found)\n",
    "print(len(found))\n"
   ]
  },
  {
   "cell_type": "markdown",
   "metadata": {},
   "source": [
    "En el caso en el que se requiera eliminar un elemento de una posición específica de la lista. El método pop recibe como parámetro la posición del elemento a remover. Las posiciones en las listas empiezan en cero. Si no se especifican parámetros, se remueve el último elemento de la lista."
   ]
  },
  {
   "cell_type": "code",
   "execution_count": 68,
   "metadata": {},
   "outputs": [
    {
     "name": "stdout",
     "output_type": "stream",
     "text": [
      "['Arles', 'Johan', 'Monica', 'María', 'Mabel']\n",
      "['Arles', 'Monica', 'María', 'Mabel']\n",
      "Mabel ha sido eliminada de la lista.\n",
      "['Arles', 'Monica', 'María']\n"
     ]
    }
   ],
   "source": [
    "nombres = ['Arles', 'Johan', 'Monica', 'María', 'Mabel']\n",
    "print(nombres)\n",
    "nombres.pop(1) #remueve a Johan\n",
    "print(nombres)\n",
    "nombre_borrado = nombres.pop() # remueve a Mabel\n",
    "print(nombre_borrado + \" ha sido eliminada de la lista.\")\n",
    "print(nombres)"
   ]
  },
  {
   "cell_type": "markdown",
   "metadata": {},
   "source": [
    "Es posible agregar una lista al final de otra lista. Para esto se puede utilizar el método ```extend```. "
   ]
  },
  {
   "cell_type": "code",
   "execution_count": 17,
   "metadata": {},
   "outputs": [
    {
     "name": "stdout",
     "output_type": "stream",
     "text": [
      "['Arles', 'Johan', 'Monica', 'María', 'Mabel', 'Barry', 'John', 'Guttag']\n"
     ]
    }
   ],
   "source": [
    "nombres = ['Arles', 'Johan', 'Monica', 'María', 'Mabel']\n",
    "otros_nombres = ['Barry', 'John', 'Guttag']\n",
    "\n",
    "nombres.extend(otros_nombres)\n",
    "print(nombres)"
   ]
  },
  {
   "cell_type": "markdown",
   "metadata": {},
   "source": [
    "Para agregar elementos en una posición específica de una lista se puede utilizar el método ```insert```:"
   ]
  },
  {
   "cell_type": "code",
   "execution_count": 36,
   "metadata": {},
   "outputs": [
    {
     "name": "stdout",
     "output_type": "stream",
     "text": [
      "['Guttag', 'Arles', 'Johan', 'Monica', 'María', 'Mabel']\n",
      "['Guttag', 'Arles', 'Peter', 'Johan', 'Monica', 'María', 'Mabel']\n",
      "['Guttag', 'Arles', 'Peter', 7891247812, 'Johan', 'Monica', 'María', 'Mabel']\n",
      "['Guttag', 'Arles', 'Peter', 7891247812, 'Johan', 'Monica', 'María', 'Mabel', 'Pedro']\n"
     ]
    }
   ],
   "source": [
    "nombres = ['Arles', 'Johan', 'Monica', 'María', 'Mabel']\n",
    "nombres.insert(0, 'Guttag') #posición valor\n",
    "print(nombres)\n",
    "nombres.insert(2, 'Peter') #list_name.insert(posición,valor)\n",
    "print(nombres)\n",
    "nombres.insert(len(nombres)//2, 7891247812)\n",
    "print(nombres)"
   ]
  },
  {
   "cell_type": "markdown",
   "metadata": {},
   "source": [
    "Como pedir ayuda sobre un método específico?"
   ]
  },
  {
   "cell_type": "code",
   "execution_count": 38,
   "metadata": {},
   "outputs": [
    {
     "name": "stdout",
     "output_type": "stream",
     "text": [
      "Help on method_descriptor:\n",
      "\n",
      "insert(self, index, object, /)\n",
      "    Insert object before index.\n",
      "\n"
     ]
    }
   ],
   "source": [
    "help(list.insert)"
   ]
  },
  {
   "cell_type": "markdown",
   "metadata": {},
   "source": [
    "Es posible cambiar un elemento en una posición de una lista:"
   ]
  },
  {
   "cell_type": "code",
   "execution_count": 3,
   "metadata": {},
   "outputs": [
    {
     "name": "stdout",
     "output_type": "stream",
     "text": [
      "['e', 'l', 'm', 'e', 'j', 'o', 'r']\n"
     ]
    }
   ],
   "source": [
    "lista = ['E', 'l', 'm', 'e', 'j', 'o', 'r']\n",
    "lista[0] = 'e'\n",
    "print(lista)"
   ]
  },
  {
   "cell_type": "markdown",
   "metadata": {},
   "source": [
    "Es posible tomar valores de una lista y asignarlos a variables (unpacking) se puede:"
   ]
  },
  {
   "cell_type": "code",
   "execution_count": 4,
   "metadata": {},
   "outputs": [
    {
     "name": "stdout",
     "output_type": "stream",
     "text": [
      "1\n",
      "2\n"
     ]
    }
   ],
   "source": [
    "a, b = [1,2]\n",
    "print(a)\n",
    "print(b)"
   ]
  },
  {
   "cell_type": "markdown",
   "metadata": {},
   "source": [
    "### Ejercicio: \n",
    "\n",
    "Transforme la cadena ```El mejor regalo? El perdón...``` en ```regalo el perdón``` utilizando únicamente los métodos de listas que hemos visto. La nueva cadena debe guardarse en la variable ```nueva_frase```:"
   ]
  },
  {
   "cell_type": "code",
   "execution_count": 44,
   "metadata": {},
   "outputs": [
    {
     "name": "stdout",
     "output_type": "stream",
     "text": [
      "El mejor regalo? El perdón...\n",
      "['E', 'l', ' ', 'm', 'e', 'j', 'o', 'r', ' ', 'r', 'e', 'g', 'a', 'l', 'o', '?', ' ', 'E', 'l', ' ', 'p', 'e', 'r', 'd', 'ó', 'n', '.', '.', '.']\n",
      "['E', 'l', ' ', 'm', 'e', 'j', 'o', 'r', ' ', 'r', 'e', 'g', 'a', 'l', 'o', '?', ' ', 'E', 'l', ' ', 'p', 'e', 'r', 'd', 'ó', 'n', '.', '.', '.']\n",
      "El mejor regalo? El perdón...\n"
     ]
    }
   ],
   "source": [
    "frase = \"El mejor regalo? El perdón...\"\n",
    "list_frase = list(frase)\n",
    "print(frase)\n",
    "print(list_frase) #deben jugar con esta lista\n",
    "\n",
    "#Aquí va la solución...\n",
    "\n",
    "nueva_frase = ''.join(list_frase)\n",
    "print(list_frase)\n",
    "print(nueva_frase)\n"
   ]
  },
  {
   "cell_type": "code",
   "execution_count": 45,
   "metadata": {},
   "outputs": [
    {
     "name": "stdout",
     "output_type": "stream",
     "text": [
      "[1, 1, 2, 2, 2, 2]\n"
     ]
    }
   ],
   "source": []
  },
  {
   "cell_type": "markdown",
   "metadata": {},
   "source": [
    "## Referencias: \n",
    "\n",
    "Barry, P. (2016). Head First Python: A Brain-Friendly Guide. \" O'Reilly Media, Inc.\".\n",
    "\n",
    "Guttag, John. Introduction to Computation and Programming Using Python: With Application to Understanding Data Second Edition. MIT Press, 2016. ISBN: 9780262529624.\n",
    "\n",
    "\n",
    "https://www.w3schools.com/PYTHON/"
   ]
  }
 ],
 "metadata": {
  "kernelspec": {
   "display_name": "Python 3",
   "language": "python",
   "name": "python3"
  },
  "language_info": {
   "codemirror_mode": {
    "name": "ipython",
    "version": 3
   },
   "file_extension": ".py",
   "mimetype": "text/x-python",
   "name": "python",
   "nbconvert_exporter": "python",
   "pygments_lexer": "ipython3",
   "version": "3.7.3"
  }
 },
 "nbformat": 4,
 "nbformat_minor": 2
}

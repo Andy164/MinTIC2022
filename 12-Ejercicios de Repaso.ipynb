{
 "cells": [
  {
   "cell_type": "markdown",
   "metadata": {},
   "source": [
    "# Repaso de ciclos, cadenas, tuplas y listas\n"
   ]
  },
  {
   "cell_type": "markdown",
   "metadata": {},
   "source": [
    "## Extraer nombres de universidades Colombianas\n",
    "\n",
    "Dada una lista de Universidades Colombianas, obtener el nombre del sitio web. Se asume que un nombre de universidad está entre los caracteres www.  y edu.co. Por ejemplo de www.unal.edu.co se obtiene unal.\n",
    "\n",
    "*Entrada:*\n",
    "Un numero n indicando la cantidad de nombres de sitios web a procesar\n",
    "\n",
    "*Salida:*\n",
    "Listado de posibles nombres de universidades.\n",
    "\n",
    "*Ejemplo:*\n",
    "\n",
    "<table>\n",
    "    <tr>\n",
    "        <td>\n",
    "        Input\n",
    "        </td>\n",
    "        <td>\n",
    "        Output\n",
    "        </td>\n",
    "    </tr>\n",
    "    <tr>\n",
    "        <td>\n",
    "        5<br>\n",
    "        www.unal.edu.co<br>        \n",
    "        www.udistrital.edu.co<br>\n",
    "        www.univalle.edu.co<br>\n",
    "        www.javeriana.edu.co<br>\n",
    "        www.konradlorenz.edu.co<br>\n",
    "        </td>\n",
    "        <td>        \n",
    "        unal<br>\n",
    "        udistrital<br>\n",
    "        univalle<br>\n",
    "        javeriana<br>\n",
    "        konradlorenz<br>\n",
    "        </td>\n",
    "    </tr>   \n",
    "</table>\n",
    "\n"
   ]
  },
  {
   "cell_type": "code",
   "execution_count": 1,
   "metadata": {},
   "outputs": [],
   "source": [
    "#escriba aquí la solución"
   ]
  },
  {
   "cell_type": "markdown",
   "metadata": {},
   "source": [
    "## Solucion:\n"
   ]
  },
  {
   "cell_type": "code",
   "execution_count": 2,
   "metadata": {},
   "outputs": [
    {
     "name": "stdout",
     "output_type": "stream",
     "text": [
      "0\n"
     ]
    }
   ],
   "source": [
    "def process(uni):\n",
    "    return uni.split(\".\")[1]\n",
    "\n",
    "def main():\n",
    "    n = int(input())\n",
    "    for i in range(n):\n",
    "        uni = input()\n",
    "        print(process(uni))\n",
    "main()"
   ]
  },
  {
   "cell_type": "markdown",
   "metadata": {},
   "source": [
    "## Leer información de estudiantes y calcular el promedio de notas"
   ]
  },
  {
   "cell_type": "markdown",
   "metadata": {},
   "source": [
    "Se tienen que procesar algunos comandos para realizar el procesamiento de notas de una Universidad. Se tiene una lista de estudiantes \n",
    "\n",
    "- Comando 1: Agregar estudiante y nota `1&nombre_estudiante&nota`\n",
    "- Comando 2: Calcular promedio de los estudiantes en un momento dado `2`\n",
    "- Comando 3: Ordenar estudiantes agregados por nombre `3`\n",
    "- Comando 4: Consultar la nota de un estudiante `4&nombre_estudiante`\n",
    "- Comando 5: Visualizar lista de estudiantes `5`\n",
    "- Comando 6: Salir `6`\n",
    "\n"
   ]
  },
  {
   "cell_type": "code",
   "execution_count": 3,
   "metadata": {},
   "outputs": [],
   "source": [
    "#ingrese aquí la solución"
   ]
  },
  {
   "cell_type": "markdown",
   "metadata": {},
   "source": [
    "Para poder resolver el problema se pueden identificar varias partes a resolver que pueden modelarse como funciones:\n",
    "\n",
    "- Definir la lista de estudiantes.\n",
    "- agregar un estudiante dada la información\n",
    "- calcular el promedio de notas de los estudiantes en un momento dado\n",
    "- ordenar estudiantes agregados por nombre\n",
    "- consultar la nota de un estudiante \n",
    "- visualizar lista\n",
    "- procesar los comandos\n",
    "- mostrar menu\n",
    "    "
   ]
  },
  {
   "cell_type": "markdown",
   "metadata": {},
   "source": [
    "## Solución"
   ]
  },
  {
   "cell_type": "code",
   "execution_count": 4,
   "metadata": {},
   "outputs": [],
   "source": [
    "# definir la lista de estudiantes un estudiante puede ser modelado como una tupla (por ahora)"
   ]
  },
  {
   "cell_type": "code",
   "execution_count": 5,
   "metadata": {},
   "outputs": [
    {
     "name": "stdout",
     "output_type": "stream",
     "text": [
      "Seleccione una opción:\n",
      "Comando 1: Agregar estudiante y nota `1&nombre_estudiante&nota`\n",
      "Comando 2: Calcular promedio de los estudiantes en un momento dado.\n",
      "Comando 3: Ordenar estudiantes agregados por nombre\n",
      "Comando 4: Consultar la nota de un estudiante `4&nombre_estudiante`\n",
      "Comando 5: Visualizar\n",
      "Comando 6: Salir\n",
      "1&Antonia&5.0\n",
      "1\n",
      "Seleccione una opción:\n",
      "Comando 1: Agregar estudiante y nota `1&nombre_estudiante&nota`\n",
      "Comando 2: Calcular promedio de los estudiantes en un momento dado.\n",
      "Comando 3: Ordenar estudiantes agregados por nombre\n",
      "Comando 4: Consultar la nota de un estudiante `4&nombre_estudiante`\n",
      "Comando 5: Visualizar\n",
      "Comando 6: Salir\n",
      "5\n",
      "5\n",
      "#####Lista de estudiantes#####\n",
      "Nombre: Antonia, nota:5.0\n",
      "Seleccione una opción:\n",
      "Comando 1: Agregar estudiante y nota `1&nombre_estudiante&nota`\n",
      "Comando 2: Calcular promedio de los estudiantes en un momento dado.\n",
      "Comando 3: Ordenar estudiantes agregados por nombre\n",
      "Comando 4: Consultar la nota de un estudiante `4&nombre_estudiante`\n",
      "Comando 5: Visualizar\n",
      "Comando 6: Salir\n",
      "6\n",
      "6\n"
     ]
    },
    {
     "data": {
      "text/plain": [
       "'\\n1&Antonia&5.0\\n1&Juan&2.4\\n1&Pedro&4.3\\n'"
      ]
     },
     "execution_count": 5,
     "metadata": {},
     "output_type": "execute_result"
    }
   ],
   "source": [
    "\n",
    "def agregar_estudiante(estudiantes, est):    \n",
    "    estudiantes.append(est)\n",
    "\n",
    "def promedio(estudiantes):\n",
    "    prom = 0\n",
    "    #print(estudiantes)\n",
    "    for estudiante in estudiantes:\n",
    "        prom += float(estudiante[1])\n",
    "    print(\"El promedio de los estudiantes es: \" + str(prom/len(estudiantes)))\n",
    "\n",
    "def ordenar(estudiantes):\n",
    "    estudiantes.sort()\n",
    "\n",
    "def consultar(estudiantes, nombre):\n",
    "    encontrado = False\n",
    "    for estudiante in estudiantes:\n",
    "        if estudiante[0] == nombre:\n",
    "            encontrado = True\n",
    "            print(estudiante[1])\n",
    "    if not encontrado:\n",
    "        print(\"Estudiante no encontrado\")\n",
    "        \n",
    "def visualizar(estudiantes):\n",
    "    print(\"Lista de estudiantes\".center(30, \"#\"))\n",
    "    if len(estudiantes) == 0:\n",
    "        print(\"No hay estudiantes registrados.\")\n",
    "    for e in estudiantes:\n",
    "        print(\"Nombre: \" + e[0] + \", nota:\" + str(e[1]))\n",
    "            \n",
    "def procesar_comandos():\n",
    "    bandera = True\n",
    "    estudiantes = []\n",
    "    comando = [0]\n",
    "    while bandera or comando[0] != \"6\":\n",
    "        bandera = False\n",
    "        mostrar_menu()\n",
    "        comando = input().split(\"&\")\n",
    "        print(comando[0])\n",
    "        if comando[0] == \"1\":\n",
    "            agregar_estudiante(estudiantes, (comando[1], float(comando[2])))\n",
    "        elif comando[0] == \"2\":\n",
    "            promedio(estudiantes)\n",
    "        elif comando[0] == \"3\":\n",
    "            ordenar(estudiantes)\n",
    "        elif comando[0] == \"4\":\n",
    "            consultar(estudiantes, comando[1])        \n",
    "        elif comando[0] == \"5\":\n",
    "            visualizar(estudiantes)\n",
    "            \n",
    "def mostrar_menu():\n",
    "    print(\"Seleccione una opción:\")\n",
    "    print(\"Comando 1: Agregar estudiante y nota `1&nombre_estudiante&nota`\")\n",
    "    print(\"Comando 2: Calcular promedio de los estudiantes en un momento dado.\")\n",
    "    print(\"Comando 3: Ordenar estudiantes agregados por nombre\")\n",
    "    print(\"Comando 4: Consultar la nota de un estudiante `4&nombre_estudiante`\")\n",
    "    print(\"Comando 5: Visualizar\")\n",
    "    print(\"Comando 6: Salir\")\n",
    "\n",
    "\n",
    "procesar_comandos()\n",
    "\n",
    "\"\"\"\n",
    "1&Antonia&5.0\n",
    "1&Juan&2.4\n",
    "1&Pedro&4.3\n",
    "\"\"\""
   ]
  },
  {
   "cell_type": "markdown",
   "metadata": {},
   "source": [
    "## Entendiendo los sentimientos de Groot\n",
    "\n",
    "El lenguaje de Groot es muy complicado para expresar sentimientos. Los sentimientos tienen n capas.\n",
    "\n",
    "Si n = 1, el sentimiento será \"I hate it\",  si n = 2 es \"I hate that I love it\", and if n = 3 es \"I hate that I love that I hate it\" y así sucesivamente.\n",
    "\n",
    "*Entrada:*\n",
    "La cantidad n de capas donde $n \\geq 1$\n",
    "\n",
    "*Salida:*\n",
    "Muestre la frase que Groot está tratando de decir.\n",
    "\n",
    "\n",
    "*Ejemplo 1:*\n",
    "\n",
    "<table>\n",
    "    <tr>\n",
    "    <td>Input</td><td>Output</td>\n",
    "    </tr>\n",
    "    <tr>\n",
    "        <td>1</td><td>I hate it</td>\n",
    "    </tr>\n",
    "</table>\n",
    "\n",
    "\n",
    "Ejemplo 2:\n",
    "\n",
    "<table>\n",
    "    <tr>\n",
    "    <td>Input</td><td>Output</td>\n",
    "    </tr>\n",
    "    <tr>\n",
    "        <td>2</td><td>I hate that I love it</td>\n",
    "    </tr>\n",
    "</table>\n",
    "\n",
    "Ejemplo 3:\n",
    "\n",
    "<table>\n",
    "    <tr>\n",
    "    <td>Input</td><td>Output</td>\n",
    "    </tr>\n",
    "    <tr>\n",
    "        <td>3</td><td>I hate that I love that I hate it</td>\n",
    "    </tr>\n",
    "</table>"
   ]
  },
  {
   "cell_type": "code",
   "execution_count": 6,
   "metadata": {},
   "outputs": [],
   "source": [
    "#piense aquí la solución en caso de no plantear ninguna abra la siguiente celda"
   ]
  },
  {
   "cell_type": "markdown",
   "metadata": {},
   "source": [
    "### Una posible opción para groot\n",
    "\n",
    "Una posible opción puede ser construir una tupla ó lista con dos elementos: \n"
   ]
  },
  {
   "cell_type": "code",
   "execution_count": 7,
   "metadata": {},
   "outputs": [],
   "source": [
    "emocion = [\"I hate\", \"I love\"]\n"
   ]
  },
  {
   "cell_type": "markdown",
   "metadata": {},
   "source": [
    "Puede ir alternando entre posiciones de la lista el ciclo así:"
   ]
  },
  {
   "cell_type": "code",
   "execution_count": null,
   "metadata": {},
   "outputs": [],
   "source": [
    "salida = []\n",
    "\n",
    "n = int(input())\n",
    "\n",
    "for i in range(n):\n",
    "    salida.append(emocion[i%2])\n",
    "\n",
    "print(salida)"
   ]
  },
  {
   "cell_type": "markdown",
   "metadata": {},
   "source": [
    "Se puede usar join con that..."
   ]
  },
  {
   "cell_type": "code",
   "execution_count": null,
   "metadata": {},
   "outputs": [],
   "source": [
    "res = \" that \".join(salida) "
   ]
  },
  {
   "cell_type": "markdown",
   "metadata": {},
   "source": [
    "Agregue it:"
   ]
  },
  {
   "cell_type": "code",
   "execution_count": null,
   "metadata": {},
   "outputs": [],
   "source": [
    "res += \" it \"\n",
    "print(res)"
   ]
  },
  {
   "cell_type": "markdown",
   "metadata": {},
   "source": [
    "Es posible generar esta solución con una lista creada por comprensión?"
   ]
  },
  {
   "cell_type": "code",
   "execution_count": null,
   "metadata": {},
   "outputs": [],
   "source": [
    "#intentelo aquí"
   ]
  },
  {
   "cell_type": "markdown",
   "metadata": {},
   "source": [
    "### Solución"
   ]
  },
  {
   "cell_type": "code",
   "execution_count": null,
   "metadata": {},
   "outputs": [],
   "source": [
    "salida = \" that \".join([emocion[i % 2] for i in range(n)])+\" it\"\n",
    "print(salida)"
   ]
  },
  {
   "cell_type": "markdown",
   "metadata": {},
   "source": [
    "## Simplificador de Fracciones\n",
    "\n",
    "Utilizando funciones recursivas, elabore un programa que simplifique una fracción escrita de la forma a/b.\n",
    "\n",
    "Ejemplo: \n",
    "<table>\n",
    "    <tr><td>Entrada</td><td>Salida</td></tr>\n",
    "    <tr><td>6/4</td><td>3/2</td></tr>\n",
    "</table>\n"
   ]
  },
  {
   "cell_type": "code",
   "execution_count": null,
   "metadata": {},
   "outputs": [],
   "source": []
  }
 ],
 "metadata": {
  "kernelspec": {
   "display_name": "Python 3",
   "language": "python",
   "name": "python3"
  },
  "language_info": {
   "codemirror_mode": {
    "name": "ipython",
    "version": 3
   },
   "file_extension": ".py",
   "mimetype": "text/x-python",
   "name": "python",
   "nbconvert_exporter": "python",
   "pygments_lexer": "ipython3",
   "version": "3.7.3"
  }
 },
 "nbformat": 4,
 "nbformat_minor": 2
}
